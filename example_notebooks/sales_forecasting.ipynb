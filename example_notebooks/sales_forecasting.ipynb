{
 "cells": [
  {
   "cell_type": "code",
   "execution_count": null,
   "metadata": {
    "editable": true,
    "slideshow": {
     "slide_type": ""
    },
    "tags": [
     "parameters"
    ]
   },
   "outputs": [],
   "source": [
    "# Time series parameters\n",
    "forecast_start: str = \"2024-01-01\"  # {\"description\": \"Start date for forecast\", \"input_type\": \"date\"}\n",
    "forecast_periods: int = 30  # {\"description\": \"Number of periods to forecast\", \"validation\": {\"min\": 1, \"max\": 90}}\n",
    "\n",
    "# Decomposition parameters\n",
    "decomposition_type: str = \"multiplicative\"  # {\"description\": \"Type of decomposition\", \"input_type\": \"select\", \"options\": [\"multiplicative\", \"additive\"]}\n",
    "seasonality_period: int = 7  # {\"description\": \"Days per seasonal cycle\", \"validation\": {\"min\": 1, \"max\": 30}}\n",
    "\n",
    "# Model parameters\n",
    "smoothing_level: float = 0.2  # {\"description\": \"Alpha smoothing factor\", \"validation\": {\"min\": 0.0, \"max\": 1.0}}\n",
    "smoothing_seasonal: float = 0.1  # {\"description\": \"Gamma smoothing factor\", \"validation\": {\"min\": 0.0, \"max\": 1.0}}"
   ]
  },
  {
   "cell_type": "code",
   "execution_count": null,
   "metadata": {},
   "outputs": [],
   "source": [
    "import pandas as pd\n",
    "import numpy as np\n",
    "from statsmodels.tsa.seasonal import seasonal_decompose\n",
    "import matplotlib.pyplot as plt\n",
    "\n",
    "# Set style\n",
    "plt.style.use('ggplot')\n",
    "\n",
    "# Generate sample data\n",
    "np.random.seed(42)\n",
    "dates = pd.date_range(start='2023-01-01', end=forecast_start, freq='D')\n",
    "\n",
    "# Create time series with trend, seasonality, and noise\n",
    "trend = np.linspace(100, 200, len(dates))\n",
    "seasonal = 20 * np.sin(2 * np.pi * np.arange(len(dates)) / seasonality_period)\n",
    "noise = np.random.normal(0, 10, len(dates))\n",
    "\n",
    "if decomposition_type == 'multiplicative':\n",
    "    data = trend * (1 + seasonal / 100) + noise\n",
    "else:  # additive\n",
    "    data = trend + seasonal + noise\n",
    "\n",
    "# Create time series\n",
    "ts = pd.Series(data, index=dates)\n",
    "\n",
    "# Decompose the time series\n",
    "decomposition = seasonal_decompose(ts, model=decomposition_type, period=seasonality_period)\n",
    "\n",
    "# Plot decomposition\n",
    "fig, (ax1, ax2, ax3, ax4) = plt.subplots(4, 1, figsize=(12, 10))\n",
    "decomposition.observed.plot(ax=ax1)\n",
    "ax1.set_title('Observed')\n",
    "decomposition.trend.plot(ax=ax2)\n",
    "ax2.set_title('Trend')\n",
    "decomposition.seasonal.plot(ax=ax3)\n",
    "ax3.set_title('Seasonal')\n",
    "decomposition.resid.plot(ax=ax4)\n",
    "ax4.set_title('Residual')\n",
    "plt.tight_layout()\n",
    "plt.show()\n",
    "\n",
    "# Simple forecasting using the last values and seasonal components\n",
    "last_trend = decomposition.trend.dropna().iloc[-1]\n",
    "seasonal_components = decomposition.seasonal.iloc[-seasonality_period:]\n",
    "\n",
    "# Extend seasonal pattern\n",
    "forecast_seasonal = np.tile(seasonal_components.values, \n",
    "                           int(np.ceil(forecast_periods / seasonality_period)))[:forecast_periods]\n",
    "\n",
    "# Create forecast\n",
    "if decomposition_type == 'multiplicative':\n",
    "    forecast_values = last_trend * (1 + forecast_seasonal / 100)\n",
    "else:  # additive\n",
    "    forecast_values = last_trend + forecast_seasonal\n",
    "\n",
    "# Plot the forecast\n",
    "plt.figure(figsize=(12, 6))\n",
    "plt.plot(dates, data, label='Historical')\n",
    "plt.plot(pd.date_range(start=forecast_start, \n",
    "                      periods=forecast_periods, \n",
    "                      freq='D'),\n",
    "         forecast_values[-forecast_periods:],\n",
    "         '--', label='Forecast')\n",
    "plt.title('Sales Forecast')\n",
    "plt.legend()\n",
    "plt.tight_layout()\n",
    "plt.show()"
   ]
  }
 ],
 "metadata": {
  "kernelspec": {
   "display_name": "Python 3 (ipykernel)",
   "language": "python",
   "name": "python3"
  },
  "language_info": {
   "codemirror_mode": {
    "name": "ipython",
    "version": 3
   },
   "file_extension": ".py",
   "mimetype": "text/x-python",
   "name": "python",
   "nbconvert_exporter": "python",
   "pygments_lexer": "ipython3",
   "version": "3.12.7"
  },
  "notebook_spec": {
   "description": "Time series decomposition and forecasting of sales data",
   "name": "Sales Forecasting",
   "python_version": "3.9",
   "requirements": {
    "matplotlib": "3.7.0",
    "numpy": "1.24.0",
    "pandas": "2.0.0",
    "statsmodels": "0.14.0"
   },
   "tags": [
    "forecasting",
    "time-series"
   ]
  }
 },
 "nbformat": 4,
 "nbformat_minor": 4
}
