{
 "cells": [
  {
   "cell_type": "code",
   "execution_count": 4,
   "metadata": {
    "editable": true,
    "slideshow": {
     "slide_type": ""
    },
    "tags": [
     "parameters"
    ]
   },
   "outputs": [],
   "source": [
    "# Time series parameters\n",
    "forecast_start: str = \"2024-01-01\"  # {\"description\": \"Start date for forecast\", \"input_type\": \"date\"}\n",
    "forecast_periods: int = 30  # {\"description\": \"Number of periods to forecast\", \"validation\": {\"min\": 1, \"max\": 90}}\n",
    "\n",
    "# Decomposition parameters\n",
    "decomposition_type: str = \"multiplicative\"  # {\"description\": \"Type of decomposition\", \"input_type\": \"select\", \"options\": [\"multiplicative\", \"additive\"]}\n",
    "seasonality_period: int = 7  # {\"description\": \"Days per seasonal cycle\", \"validation\": {\"min\": 1, \"max\": 30}}\n",
    "\n",
    "# Model parameters\n",
    "smoothing_level: float = 0.2  # {\"description\": \"Alpha smoothing factor\", \"validation\": {\"min\": 0.0, \"max\": 1.0}}\n",
    "smoothing_seasonal: float = 0.1  # {\"description\": \"Gamma smoothing factor\", \"validation\": {\"min\": 0.0, \"max\": 1.0}}"
   ]
  },
  {
   "cell_type": "markdown",
   "metadata": {},
   "source": [
    "# [Demo] Sales Forecasting Analysis\n",
    "\n",
    "This analysis aims to provide a comprehensive forecast of sales over a specified period. By utilizing time series decomposition techniques, we can identify underlying trends, seasonal patterns, and residuals in the sales data. This information is crucial for sales leaders to make informed decisions regarding inventory management, resource allocation, and strategic planning.\n",
    "\n",
    "### Key Parameters\n",
    "\n",
    "- **Forecast Start Date**: The date from which the forecast will begin.\n",
    "- **Forecast Periods**: The number of future periods (days) for which the forecast will be generated.\n",
    "- **Decomposition Type**: The method used to decompose the time series data, either 'multiplicative' or 'additive'.\n",
    "- **Seasonality Period**: The number of days that define a seasonal cycle, which helps in understanding recurring patterns in sales.\n",
    "\n",
    "### Model Parameters\n",
    "\n",
    "- **Smoothing Level**: This parameter controls the level of smoothing applied to the data, helping to reduce noise and highlight trends.\n",
    "- **Smoothing Seasonal**: Similar to the smoothing level, this parameter specifically addresses the seasonal components of the data.\n",
    "\n",
    "The following code will set up the necessary parameters for the analysis.\n"
   ]
  },
  {
   "cell_type": "code",
   "execution_count": null,
   "metadata": {},
   "outputs": [],
   "source": [
    "import pandas as pd\n",
    "import numpy as np\n",
    "from statsmodels.tsa.seasonal import seasonal_decompose\n",
    "import plotly.graph_objects as go\n",
    "from plotly.subplots import make_subplots  # Import make_subplots\n",
    "\n",
    "# Generate sample data\n",
    "np.random.seed(42)\n",
    "dates = pd.date_range(start='2023-01-01', end=forecast_start, freq='D')\n",
    "\n",
    "# Create time series with trend, seasonality, and noise\n",
    "trend = np.linspace(100, 200, len(dates))\n",
    "seasonal = 20 * np.sin(2 * np.pi * np.arange(len(dates)) / seasonality_period)\n",
    "noise = np.random.normal(0, 10, len(dates))\n",
    "\n",
    "if decomposition_type == 'multiplicative':\n",
    "    data = trend * (1 + seasonal / 100) + noise\n",
    "else:  # additive\n",
    "    data = trend + seasonal + noise\n",
    "\n",
    "# Create time series\n",
    "ts = pd.Series(data, index=dates)\n",
    "\n",
    "# Decompose the time series\n",
    "decomposition = seasonal_decompose(ts, model=decomposition_type, period=seasonality_period)\n",
    "\n",
    "# Create subplots for decomposition\n",
    "fig = make_subplots(rows=4, cols=1, subplot_titles=('Observed', 'Trend', 'Seasonal', 'Residual'))  # Create subplots\n",
    "\n",
    "# Add each component as a separate panel\n",
    "fig.add_trace(go.Scatter(x=decomposition.observed.index, y=decomposition.observed, mode='lines', name='Observed'), row=1, col=1)\n",
    "fig.add_trace(go.Scatter(x=decomposition.trend.index, y=decomposition.trend, mode='lines', name='Trend'), row=2, col=1)\n",
    "fig.add_trace(go.Scatter(x=decomposition.seasonal.index, y=decomposition.seasonal, mode='lines', name='Seasonal'), row=3, col=1)\n",
    "fig.add_trace(go.Scatter(x=decomposition.resid.index, y=decomposition.resid, mode='lines', name='Residual'), row=4, col=1)\n",
    "\n",
    "# Update layout for subplots\n",
    "fig.update_layout(title='Time Series Decomposition', xaxis_title='Date', yaxis_title='Value', legend_title='Components', height=800)\n",
    "fig.show()\n",
    "\n",
    "# Simple forecasting using the last values and seasonal components\n",
    "last_trend = decomposition.trend.dropna().iloc[-1]\n",
    "seasonal_components = decomposition.seasonal.iloc[-seasonality_period:]\n",
    "\n",
    "# Extend seasonal pattern\n",
    "forecast_seasonal = np.tile(seasonal_components.values, \n",
    "                           int(np.ceil(forecast_periods / seasonality_period)))[:forecast_periods]\n",
    "\n",
    "# Create forecast\n",
    "if decomposition_type == 'multiplicative':\n",
    "    forecast_values = last_trend * (1 + forecast_seasonal / 100)\n",
    "else:  # additive\n",
    "    forecast_values = last_trend + forecast_seasonal\n",
    "\n",
    "# Plot the forecast\n",
    "forecast_dates = pd.date_range(start=forecast_start, periods=forecast_periods, freq='D')\n",
    "fig_forecast = go.Figure()\n",
    "\n",
    "fig_forecast.add_trace(go.Scatter(x=dates, y=data, mode='lines', name='Historical'))\n",
    "fig_forecast.add_trace(go.Scatter(x=forecast_dates, y=forecast_values[-forecast_periods:], mode='lines', name='Forecast', line=dict(dash='dash')))\n",
    "\n",
    "fig_forecast.update_layout(title='Sales Forecast', xaxis_title='Date', yaxis_title='Sales', legend_title='Data')\n",
    "fig_forecast.show()"
   ]
  }
 ],
 "metadata": {
  "kernelspec": {
   "display_name": "Python 3 (ipykernel)",
   "language": "python",
   "name": "python3"
  },
  "language_info": {
   "codemirror_mode": {
    "name": "ipython",
    "version": 3
   },
   "file_extension": ".py",
   "mimetype": "text/x-python",
   "name": "python",
   "nbconvert_exporter": "python",
   "pygments_lexer": "ipython3",
   "version": "3.12.9"
  },
  "notebook_spec": {
   "description": "Time series decomposition and forecasting of sales data",
   "name": "Sales Forecasting",
   "python_version": "3.9",
   "requirements": {
    "matplotlib": "3.7.0",
    "numpy": "1.24.0",
    "pandas": "2.0.0",
    "plotly": "6.0.1",
    "statsmodels": "0.14.0"
   },
   "tags": [
    "forecasting",
    "time-series"
   ]
  }
 },
 "nbformat": 4,
 "nbformat_minor": 4
}
