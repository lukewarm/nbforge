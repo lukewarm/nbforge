{
 "cells": [
  {
   "cell_type": "code",
   "execution_count": 2,
   "metadata": {
    "editable": true,
    "slideshow": {
     "slide_type": ""
    },
    "tags": []
   },
   "outputs": [],
   "source": [
    "import pandas as pd\n",
    "import numpy as np\n",
    "import matplotlib.pyplot as plt\n",
    "import seaborn as sns\n",
    "\n",
    "from typing import List"
   ]
  },
  {
   "cell_type": "code",
   "execution_count": 3,
   "metadata": {
    "editable": true,
    "slideshow": {
     "slide_type": ""
    },
    "tags": [
     "parameters"
    ]
   },
   "outputs": [],
   "source": [
    "# Analysis date range\n",
    "start_date: str = \"2023-01-01\"  # {\"description\": \"Start date for analysis\", \"input_type\": \"date\", \"validation\": {\"min\": \"2020-01-01\"}}\n",
    "end_date: str = \"2024-01-01\"  # {\"description\": \"End date for analysis\", \"input_type\": \"date\"}\n",
    "\n",
    "# Visualization parameters\n",
    "plot_type: str = \"line\"  # {\"description\": \"Type of plot to generate\", \"input_type\": \"select\", \"options\": [\"line\", \"bar\", \"scatter\"]}\n",
    "metrics: List[str] = [\"churn_rate\", \"retention\"]  # {\"description\": \"Metrics to plot\", \"input_type\": \"multiselect\", \"options\": [\"churn_rate\", \"retention\", \"acquisition\", \"revenue\"]}\n",
    "show_trend: bool = True  # {\"description\": \"Show trend line\"}\n",
    "rolling_window: int = 7  # {\"description\": \"Rolling average window size\", \"validation\": {\"min\": 1, \"max\": 30}}"
   ]
  },
  {
   "cell_type": "code",
   "execution_count": null,
   "metadata": {
    "editable": true,
    "slideshow": {
     "slide_type": ""
    },
    "tags": []
   },
   "outputs": [],
   "source": [
    "# Set style to 538\n",
    "plt.style.use('fivethirtyeight')\n",
    "\n",
    "# Generate sample data\n",
    "date_range = pd.date_range(start=start_date, end=end_date)\n",
    "data = pd.DataFrame({\n",
    "    'date': date_range,\n",
    "    'churn_rate': np.random.uniform(0.01, 0.05, len(date_range)),\n",
    "    'retention': np.random.uniform(0.7, 0.95, len(date_range)),\n",
    "    'acquisition': np.random.uniform(50, 200, len(date_range)),\n",
    "    'revenue': np.random.uniform(10000, 50000, len(date_range))\n",
    "})\n",
    "\n",
    "# Apply rolling average if requested\n",
    "if rolling_window > 1:\n",
    "    for metric in metrics:\n",
    "        data[metric] = data[metric].rolling(rolling_window).mean()\n",
    "    data = data.dropna()\n",
    "\n",
    "# Create plot\n",
    "plt.figure(figsize=(12, 6))\n",
    "\n",
    "for metric in metrics:\n",
    "    if plot_type == 'line':\n",
    "        plt.plot(data['date'], data[metric], label=metric)\n",
    "        if show_trend:\n",
    "            z = np.polyfit(range(len(data)), data[metric], 1)\n",
    "            p = np.poly1d(z)\n",
    "            plt.plot(data['date'], p(range(len(data))),\n",
    "                     '--', alpha=0.5)\n",
    "    elif plot_type == 'bar':\n",
    "        plt.bar(data['date'], data[metric], alpha=0.7, label=metric)\n",
    "    else:\n",
    "        plt.scatter(data['date'], data[metric], alpha=0.7, label=metric)\n",
    "\n",
    "plt.title('Customer Metrics Over Time')\n",
    "plt.xlabel('Date')\n",
    "plt.ylabel('Value')\n",
    "plt.legend()\n",
    "plt.tight_layout()\n",
    "plt.show()"
   ]
  }
 ],
 "metadata": {
  "kernelspec": {
   "display_name": "Python 3 (ipykernel)",
   "language": "python",
   "name": "python3"
  },
  "language_info": {
   "codemirror_mode": {
    "name": "ipython",
    "version": 3
   },
   "file_extension": ".py",
   "mimetype": "text/x-python",
   "name": "python",
   "nbconvert_exporter": "python",
   "pygments_lexer": "ipython3",
   "version": "3.12.7"
  },
  "notebook_spec": {
   "description": "Visualize customer churn metrics over time",
   "name": "Customer Churn Analysis",
   "python_version": "3.9",
   "requirements": {
    "matplotlib": "3.7.0",
    "numpy": "1.24.0",
    "pandas": "2.0.0",
    "seaborn": "0.11.0"
   },
   "tags": [
    "visualization",
    "customer-analytics"
   ]
  }
 },
 "nbformat": 4,
 "nbformat_minor": 4
}
